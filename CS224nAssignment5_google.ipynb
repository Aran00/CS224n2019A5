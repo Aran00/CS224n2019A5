{
  "nbformat": 4,
  "nbformat_minor": 0,
  "metadata": {
    "colab": {
      "name": "CS224nAssignment5.ipynb",
      "provenance": [],
      "collapsed_sections": []
    },
    "kernelspec": {
      "name": "python3",
      "display_name": "Python 3"
    },
    "accelerator": "GPU"
  },
  "cells": [
    {
      "cell_type": "code",
      "metadata": {
        "id": "Adu1U7TzrHkW",
        "colab_type": "code",
        "colab": {}
      },
      "source": [
        "from google.colab import drive\n",
        "drive.mount('/content/drive')\n",
        "\n",
        "!cp -R /content/drive/My\\ Drive/CS224n2019A5/ /content/\n",
        "\n",
        "import datetime\n",
        "ppl_folder = '/content/drive/My\\ Drive/result_%s' % datetime.datetime.now().strftime(\"%m-%d-%Y-%I-%M%p\")\n",
        "!mkdir $ppl_folder"
      ],
      "execution_count": 0,
      "outputs": []
    },
    {
      "cell_type": "code",
      "metadata": {
        "id": "L9GKmjVw1Dov",
        "colab_type": "code",
        "colab": {}
      },
      "source": [
        "code_folder = \"/content/CS224n2019A5\"\n",
        "#!python $code_folder/run.py train --train-src=$code_folder/en_es_data/train_tiny.es --train-tgt=$code_folder/en_es_data/train_tiny.en --dev-src=$code_folder/en_es_data/dev_tiny.es\\\n",
        "# --dev-tgt=$code_folder/en_es_data/dev_tiny.en --vocab=$code_folder/vocab_tiny_q1.json --batch-size=2 --valid-niter=100 --max-epoch=101 --no-char-decoder --ppl-save-dir=$ppl_folder --is-google-colab\n",
        "\n",
        "!CUDA_VISIBLE_DEVICES=0 python $code_folder/run.py train --train-src=$code_folder/en_es_data/train.es --train-tgt=$code_folder/en_es_data/train.en\\\n",
        " --dev-src=$code_folder/en_es_data/dev.es --dev-tgt=$code_folder/en_es_data/dev.en --vocab=$code_folder/vocab.json --cuda --ppl-save-dir=$ppl_folder --is-google-colab"
      ],
      "execution_count": 0,
      "outputs": []
    }
  ]
}